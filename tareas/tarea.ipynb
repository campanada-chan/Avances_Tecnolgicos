#comentario
IA (Inteligencia Artificial)
Campo que busca crear sistemas capaces de realizar tareas que normalmente requieren inteligencia humana, como reconocimiento de patrones, toma de decisiones y procesamiento del lenguaje natural.
Se divide en subáreas como aprendizaje automático, visión por computadora y robótica.

Deep Learning
Subconjunto de aprendizaje automático basado en redes neuronales profundas con múltiples capas ocultas.
Destaca en tareas de visión (CNN), procesamiento de lenguaje (Transformers) y generación de contenido (GAN).
Requiere grandes volúmenes de datos y potencia computacional (GPUs/TPUs).

Machine Learning
Técnica que permite a los algoritmos aprender de datos sin ser programados explícitamente.
Principales enfoques: supervisado (clasificación, regresión), no supervisado (clustering, reducción de dimensionalidad) y por refuerzo (optimización de políticas).
Herramientas populares: Scikit‑learn, XGBoost, TensorFlow, PyTorch.

IoT (Internet of Things)
Red de dispositivos físicos (sensores, actuadores, electrodomésticos) conectados a internet que recopilan y comparten datos.
Aplicaciones: hogares inteligentes, ciudades inteligentes, monitoreo industrial, salud remota.
Desafíos clave: seguridad, interoperabilidad y gestión de grandes volúmenes de datos en tiempo real.

Cloud Computing
Provisión de recursos informáticos (servidores, almacenamiento, bases de datos, IA) a través de internet bajo un modelo de pago por uso.
Modelos de servicio: IaaS, PaaS, SaaS.
Principales proveedores: AWS, Azure, Google Cloud, IBM Cloud.
Facilita el escalado automático y la integración de tecnologías como IA y Big Data.

Blockchain
Base de datos distribuida que registra transacciones en bloques enlazados criptográficamente, garantizando inmutabilidad y consenso sin autoridad central.
Usos más conocidos: criptomonedas (Bitcoin, Ethereum), contratos inteligentes, trazabilidad de la cadena de suministro.
Ventajas: transparencia, resistencia a la censura y seguridad mediante criptografía; limitaciones: consumo energético y escalabilidad.




