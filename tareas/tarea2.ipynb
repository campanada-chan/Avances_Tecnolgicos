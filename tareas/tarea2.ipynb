{
 "cells": [
  {
   "cell_type": "markdown",
   "id": "23f6b838",
   "metadata": {},
   "source": [
    "Cloud Computing\n",
    "Es la entrega de recursos informáticos (procesamiento, memoria, almacenamiento, redes y software) a través de Internet bajo un modelo de pago‑por‑uso. Los usuarios solicitan los recursos cuando los necesitan y la infraestructura se encarga de provisionarlos, gestionarlos y escalar‑los automáticamente.\n",
    "\n",
    "Servidores de almacenamiento\n",
    "Son máquinas, físicas o virtuales, dedicadas a guardar datos de forma persistente. Pueden ofrecer acceso a bloques de datos, a sistemas de archivos o a objetos, y están diseñados para ser altamente disponibles y replicables.\n",
    "\n",
    "Software Bus\n",
    "Es una arquitectura de mensajería que permite que distintas aplicaciones o micro‑servicios se comuniquen de forma desacoplada. Los componentes publican mensajes en el bus y otros los suscriben, lo que facilita la integración y el procesamiento en tiempo real.\n",
    "\n",
    "Redes de análisis\n",
    "Conjunto de infraestructuras y herramientas que capturan, transportan y procesan grandes volúmenes de datos para extraer información útil. Incluye pipelines de ingestión, procesamiento en tiempo real o por lotes y almacenes de datos estructurados o no estructurados.\n",
    "\n",
    "Bajo demanda a través del Internet\n",
    "Modelo en el que los recursos se solicitan y se entregan inmediatamente mediante la red pública. No es necesario adquirir o mantener hardware propio; el consumo se mide y se factura según la cantidad de recursos utilizados.\n",
    "\n",
    "Tipos de servicios en la nube\n",
    "IaaS (Infrastructure as a Service): la nube proporciona máquinas virtuales, redes y discos. El cliente administra el sistema operativo, las aplicaciones y los datos.\n",
    "PaaS (Platform as a Service): la nube entrega una plataforma completa con runtime, bases de datos y herramientas de desarrollo. El cliente solo se ocupa del código y de los datos de su aplicación.\n",
    "SaaS (Software as a Service): la nube ofrece aplicaciones listas para usar. El cliente solo configura la aplicación y gestiona sus datos de negocio.\n",
    "Infraestructura física que sustenta la nube\n",
    "Hardware de servidores físicos: procesadores de alto rendimiento, memoria RAM, y, en algunos casos, aceleradores como GPU o FPGA.\n",
    "Dispositivos de almacenamiento: unidades de estado sólido y discos duros organizados en sistemas distribuidos para ofrecer alta disponibilidad y rendimiento.\n",
    "Equipos de red: switches y routers de alta capacidad, balanceadores de carga y enlaces de fibra óptica que conectan los centros de datos entre sí y con los usuarios finales.\n",
    "Visualización de la arquitectura\n",
    "Red\n",
    "Se representa como un conjunto de zonas o regiones interconectadas mediante enlaces de alta velocidad. Cada zona contiene subredes, máquinas virtuales y dispositivos de seguridad que controlan el tráfico interno y externo.\n",
    "\n",
    "Almacenamiento\n",
    "Se muestra como capas que incluyen volúmenes de bloques para máquinas virtuales, sistemas de archivos compartidos y contenedores de objetos para datos no estructurados. También se indican los mecanismos de replicación y los niveles de cifrado que protegen la información.\n",
    "\n",
    "En conjunto, estos conceptos describen cómo funciona la computación en la nube, qué tipos de servicios ofrece y cuál es la infraestructura subyacente que permite su operación, todo sin recurrir a ejemplos concretos ni a tablas visuales."
   ]
  }
 ],
 "metadata": {
  "kernelspec": {
   "display_name": "Python 3",
   "language": "python",
   "name": "python3"
  },
  "language_info": {
   "codemirror_mode": {
    "name": "ipython",
    "version": 3
   },
   "file_extension": ".py",
   "mimetype": "text/x-python",
   "name": "python",
   "nbconvert_exporter": "python",
   "pygments_lexer": "ipython3",
   "version": "3.12.1"
  }
 },
 "nbformat": 4,
 "nbformat_minor": 5
}
