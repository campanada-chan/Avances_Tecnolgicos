1. GitHub
GitHub es una plataforma de desarrollo colaborativo basada en la tecnología git. Permite a personas y equipos gestionar versiones de código fuente, colaborar en proyectos, rastrear errores y sugerencias, y compartir código públicamente o de forma privada. Además, facilita la integración de herramientas para pruebas, despliegue y documentación.

2. Repositorio
Un repositorio es el lugar donde se guarda todo el historial de un proyecto, incluyendo código, imágenes, documentos y cualquier otro archivo necesario. Puede estar alojado localmente (en tu computadora) o en la nube (por ejemplo, en GitHub). Hay dos tipos:
Repositorio local: El que tienes en tu propia máquina.
Repositorio remoto: El que está alojado en internet, como en GitHub.

3. Commit
Un commit es una captura puntual de los cambios realizados en el código. Cada commit tiene un identificador único y suele ir acompañado de un mensaje que describa brevemente qué se hizo. Así, puedes volver atrás a cualquier estado anterior del proyecto.
Ejemplo:

bash

git commit -m "Corrijo error en la función de login"

4. Área de programación
El término puede referirse a dos cosas:
Workspace/Área de trabajo: Donde editas tus archivos antes de guardarlos en un commit.

IDE/Editor: El programa que utilizas para escribir código (Visual Studio Code, Sublime Text, etc.).
En git, la “área de preparación” (staging area) es donde agregas cambios antes de hacer un commit.

5. Rama (Branch)
Una rama es una copia del código donde puedes trabajar independientemente de la rama principal (main/master). Esto permite experimentar, agregar nuevas características o corregir bugs sin afectar el código principal. Cuando terminas, puedes fusionar (merge) tu rama con la rama principal.

Ejemplo:
bash
git branch nueva-funcionalidad
git checkout nueva-funcionalidad

6. Fusión (Merge)
La fusión (merge) es el proceso de unir una rama con otra. Se usa principalmente para juntar los cambios hechos en una rama secundaria con la rama principal. Si hay conflictos (cambios incompatibles entre las ramas), git te pedirá que los resuelvas manualmente.

Ejemplo:

bash
git checkout main
git merge nueva-funcionalidad


Comandos básicos de Git/GitHub
Comandos
git init	Inicializa un repositorio vacío en tu computadora.
git clone <URL>	Descarga una copia de un repositorio remoto a tu computadora.
git status	Muestra los archivos modificados, sin seguimiento o añadidos.
git add <archivo>	Añade archivos específicos al área de preparación.
git add .	Añade todos los archivos modificados al área de preparación.
git commit -m "mensaje"	Guarda los cambios añadiendo un mensaje que explique el commit.
git push	Envía tus commits al repositorio remoto (como GitHub).
git pull	Trae y combina los últimos cambios del repositorio remoto.
git branch	Lista todas las ramas o crea una nueva.
git checkout <rama>	Cambia de una rama a otra.
git checkout -b <rama>	Crea una nueva rama y te mueve a ella.
git merge <rama>	Fusiona la rama indicada con la rama activa.
git log	Muestra el historial de commits.
git remote add origin <URL>	Conecta un repositorio local a un repositorio remoto.
